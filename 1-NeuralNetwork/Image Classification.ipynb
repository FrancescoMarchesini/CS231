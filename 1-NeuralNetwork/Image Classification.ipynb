{
 "cells": [
  {
   "cell_type": "markdown",
   "metadata": {},
   "source": [
    "# Image Classification\n",
    "\n",
    "**Motivazione** : associare ad un immagine di input un etichetta da un numero finito di categorie. Molti compiti della computer visione possono essere ridotti a questo task\n",
    "\n",
    "**Problematiche** : \n",
    " * Variazione del Punto di vista\n",
    " * Variazione della grandezza\n",
    " * Deformazione\n",
    " * Occlusione dell'oggetto\n",
    " * Condizioni di Illuminazione\n",
    " * Disordine di Fondo\n",
    " * Non univoci di appartenza della classe\n",
    " \n",
    "**Pipeline**\n",
    " * *input* : un set di N imagini, ognuna delle quali etichettata con ona    di K possibili categorie. questa sarà il **traing dataset**\n",
    " * *learning*: Utilizzo del training dataset per imparare a ricononscere. questo è il **training a classifier** o **learnig modell**\n",
    " * *Valutazione*: Utilizzo del modello per classificare nuove immagini. **ground True**"
   ]
  },
  {
   "cell_type": "markdown",
   "metadata": {},
   "source": [
    "## Nearest Neighbor Classifier\n",
    "\n",
    "Questo classificatore non ha nulla a che fare con il deep leraring ma introduce molto bene alla finialità desiderata: **Classificare**"
   ]
  }
 ],
 "metadata": {
  "kernelspec": {
   "display_name": "Python 3",
   "language": "python",
   "name": "python3"
  },
  "language_info": {
   "codemirror_mode": {
    "name": "ipython",
    "version": 3
   },
   "file_extension": ".py",
   "mimetype": "text/x-python",
   "name": "python",
   "nbconvert_exporter": "python",
   "pygments_lexer": "ipython3",
   "version": "3.6.7"
  }
 },
 "nbformat": 4,
 "nbformat_minor": 2
}
